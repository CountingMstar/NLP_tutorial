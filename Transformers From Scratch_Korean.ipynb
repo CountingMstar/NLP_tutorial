{
 "cells": [
  {
   "cell_type": "code",
   "execution_count": 1,
   "metadata": {},
   "outputs": [],
   "source": [
    "from datasets import load_dataset"
   ]
  },
  {
   "cell_type": "code",
   "execution_count": 3,
   "metadata": {},
   "outputs": [
    {
     "name": "stdout",
     "output_type": "stream",
     "text": [
      "Downloading and preparing dataset oscar/unshuffled_deduplicated_ko to /home/moonstar/.cache/huggingface/datasets/oscar/unshuffled_deduplicated_ko/1.0.0/84838bd49d2295f62008383b05620571535451d84545037bb94d6f3501651df2...\n"
     ]
    },
    {
     "data": {
      "application/json": {
       "ascii": false,
       "bar_format": null,
       "colour": null,
       "elapsed": 0.03931903839111328,
       "initial": 0,
       "n": 0,
       "ncols": null,
       "nrows": 24,
       "postfix": null,
       "prefix": "Downloading data files",
       "rate": null,
       "total": 7,
       "unit": "it",
       "unit_divisor": 1000,
       "unit_scale": false
      },
      "application/vnd.jupyter.widget-view+json": {
       "model_id": "86d158caf7e748a6b337530d026c9dcf",
       "version_major": 2,
       "version_minor": 0
      },
      "text/plain": [
       "Downloading data files:   0%|          | 0/7 [00:00<?, ?it/s]"
      ]
     },
     "metadata": {},
     "output_type": "display_data"
    },
    {
     "data": {
      "application/json": {
       "ascii": false,
       "bar_format": null,
       "colour": null,
       "elapsed": 0.05335402488708496,
       "initial": 0,
       "n": 0,
       "ncols": null,
       "nrows": 24,
       "postfix": null,
       "prefix": "Downloading data",
       "rate": null,
       "total": 721072829,
       "unit": "B",
       "unit_divisor": 1000,
       "unit_scale": true
      },
      "application/vnd.jupyter.widget-view+json": {
       "model_id": "50330d5ce44a402f9c43aaf8985c3ed9",
       "version_major": 2,
       "version_minor": 0
      },
      "text/plain": [
       "Downloading data:   0%|          | 0.00/721M [00:00<?, ?B/s]"
      ]
     },
     "metadata": {},
     "output_type": "display_data"
    },
    {
     "data": {
      "application/json": {
       "ascii": false,
       "bar_format": null,
       "colour": null,
       "elapsed": 0.04633688926696777,
       "initial": 0,
       "n": 0,
       "ncols": null,
       "nrows": 24,
       "postfix": null,
       "prefix": "Downloading data",
       "rate": null,
       "total": 720830817,
       "unit": "B",
       "unit_divisor": 1000,
       "unit_scale": true
      },
      "application/vnd.jupyter.widget-view+json": {
       "model_id": "a3ce2e794e38495a840ae19109221a92",
       "version_major": 2,
       "version_minor": 0
      },
      "text/plain": [
       "Downloading data:   0%|          | 0.00/721M [00:00<?, ?B/s]"
      ]
     },
     "metadata": {},
     "output_type": "display_data"
    },
    {
     "data": {
      "application/json": {
       "ascii": false,
       "bar_format": null,
       "colour": null,
       "elapsed": 0.016995906829833984,
       "initial": 0,
       "n": 0,
       "ncols": null,
       "nrows": 24,
       "postfix": null,
       "prefix": "Downloading data",
       "rate": null,
       "total": 123014969,
       "unit": "B",
       "unit_divisor": 1000,
       "unit_scale": true
      },
      "application/vnd.jupyter.widget-view+json": {
       "model_id": "de7ce37325d84b4da340354359fbe1da",
       "version_major": 2,
       "version_minor": 0
      },
      "text/plain": [
       "Downloading data:   0%|          | 0.00/123M [00:00<?, ?B/s]"
      ]
     },
     "metadata": {},
     "output_type": "display_data"
    },
    {
     "data": {
      "application/json": {
       "ascii": false,
       "bar_format": null,
       "colour": null,
       "elapsed": 0.014570236206054688,
       "initial": 0,
       "n": 0,
       "ncols": null,
       "nrows": 24,
       "postfix": null,
       "prefix": "Generating train split",
       "rate": null,
       "total": 3675420,
       "unit": " examples",
       "unit_divisor": 1000,
       "unit_scale": false
      },
      "application/vnd.jupyter.widget-view+json": {
       "model_id": "e0b086c318ea44969f22ba61b3552c45",
       "version_major": 2,
       "version_minor": 0
      },
      "text/plain": [
       "Generating train split:   0%|          | 0/3675420 [00:00<?, ? examples/s]"
      ]
     },
     "metadata": {},
     "output_type": "display_data"
    },
    {
     "name": "stdout",
     "output_type": "stream",
     "text": [
      "Dataset oscar downloaded and prepared to /home/moonstar/.cache/huggingface/datasets/oscar/unshuffled_deduplicated_ko/1.0.0/84838bd49d2295f62008383b05620571535451d84545037bb94d6f3501651df2. Subsequent calls will reuse this data.\n"
     ]
    },
    {
     "data": {
      "application/json": {
       "ascii": false,
       "bar_format": null,
       "colour": null,
       "elapsed": 0.014097213745117188,
       "initial": 0,
       "n": 0,
       "ncols": null,
       "nrows": 24,
       "postfix": null,
       "prefix": "",
       "rate": null,
       "total": 1,
       "unit": "it",
       "unit_divisor": 1000,
       "unit_scale": false
      },
      "application/vnd.jupyter.widget-view+json": {
       "model_id": "6886332386814c7586350484af51246f",
       "version_major": 2,
       "version_minor": 0
      },
      "text/plain": [
       "  0%|          | 0/1 [00:00<?, ?it/s]"
      ]
     },
     "metadata": {},
     "output_type": "display_data"
    }
   ],
   "source": [
    "# https://oscar-project.org/post/oscar-2019/\n",
    "dataset = load_dataset('oscar', 'unshuffled_deduplicated_ko')"
   ]
  },
  {
   "cell_type": "code",
   "execution_count": 4,
   "metadata": {},
   "outputs": [
    {
     "data": {
      "text/plain": [
       "DatasetDict({\n",
       "    train: Dataset({\n",
       "        features: ['id', 'text'],\n",
       "        num_rows: 3675420\n",
       "    })\n",
       "})"
      ]
     },
     "execution_count": 4,
     "metadata": {},
     "output_type": "execute_result"
    }
   ],
   "source": [
    "dataset"
   ]
  },
  {
   "cell_type": "code",
   "execution_count": 5,
   "metadata": {},
   "outputs": [
    {
     "data": {
      "text/plain": [
       "{'id': 0,\n",
       " 'text': 'CIA 프로젝트에서는 데이터베이스로 들어오는 요청을 중간에 수집(Sniffing)하고 수집한 데이터를 분석(Parsing)하여 그로 인한 결과를 판단하여 알릴 수 있는 시스템(Push Service)이 필요하다. 그리고 연구를 위한 가상의 구현 공간(Virtual System)이 필요하다.\\n탐지되는 과정에서 오탐가능성을 없애기 위하여 정규표현식을 이용한 결과값 분석이 아닌 Sniffing으로 수집한 Query문으로부터 Table과 Column 명을 추출하기 위한 Query Parser를 구현한다.\\nApache 기반의 웹 서버를 구축하고 MySql 기반의 데이터베이스 서버를 구축하였다. 그리고 PHP 기반 웹 사이트를 구현하여 기존에 존재하는 웹 사이트와 유사한 환경을 구현하였다.\\n주민등록번호에 대한 부분은 저장하지 않는 방향으로 서버를 구현하였다. 하지만 추후 다양한 내용에 대한 검증을 위해서는 주민등록번호 역시 HASH 암호화된 형태로 저장을 하여 검증 대상에 포함하도록 구현해야 할 것이다.\\nPcap 라이브러리를 이용하여 가상 웹사이트에서 항목을 선택할 때 DB 서버에 들어오는 패킷을 Sniffing하여 실행되는 Query 문을 수집하는 기능을 구현하였다. 패킷에서 다양한 정보를 추출 할 수 있지만 그 중에서 Query 문과 IP Address 만이 필요하다.\\n하지만 현재 Parser에서 구현되어 있는 입력파일의 형태가 쿼리문 형태의 문자열만을 Parsing하도록 구현이 되어 있어 현재 시연 가능한 수준인 IP 주소를 제외한 쿼리문만 남기도록 소스코드를 변경하였다.\\nJava 파일 입출력을 통하여 Log를 Scan한다. Log 확인은 지정한 정규표현식을 이용하여 확인한다. 확인 후 Query Parser를 통해 입력된 Query 문에서 Table 명과 Column 명을 추출한다. 이후 Jsql-Parser를 이용하여 구현한 프로그램으로 각 Token을 생성한다. Token의 조합으로 개인정보를 확인 후 개인정보여부에 따라 HTTP 통신을 통하여 패킷을 보낸다. 분석이 끝난 Log는 삭제하여 Local 상에는 기록을 남기지 않는다.\\n디바이스에서는 HttpRequest를 이용하여 서버에 디바이스 고유의 아이디와 자신의 개인 아이디 등록 요청과 로그 기록 조회 요청을 한다. 로그 조회 요청을 받은 서버는 디바이스에서 로그 기록을 조회 할 수 있도록 xml 형식의 페이지를 제공하고 애플리케이션은 전송받은 페이지를 Parsing 과정을 거쳐 ListView 형식으로 화면에 보여준다.\\n알람의 단계를 Level1(Normal), Level2(Warning), Level3(Emergency), Level4(Critical) 네 단계로 나누었다. Level1 Normal 단계는관리자나, 사내 IP, 인트라넷 등으로 유입되는 Query 중, 개인정보를 업무적으로 사용하였다는 판단이 될 경우. Level2 Warning 단계는 외부 공인 IP로 유입되는 Query 중, 개인정보의 정상적인 사용이라는 판단이 될 경우. Level3 Emergency 단계는 외부 공인 IP로 유입되는 Query 중, 로그인을 하는 Query로 판단 될 경우, Level4 Critical 단계는 관리자나 사내 IP, 인트라넷 등으로 유입되는 Query 중, 개인정보가 업무적으로 사용된 것이 아닌 공격에 의한 Query로 판단 될 경우로 정의한다.\\n네 단계 중 Normal 단계와 Warning 단계는 Log만을 남기고 Emergency 단계와 Critical 단계는 사용자에게 알람을 준다. 이와 같은 알람 레벨의 세분화를 통해 개인정보의 업무적 사용이나 정상적인 접근이 과반수인 실제 상황에서 불필요한 알람을 줄이고 사용자에게 보다 정확하고 구체적인 정보를 제공할 수 있다.'}"
      ]
     },
     "execution_count": 5,
     "metadata": {},
     "output_type": "execute_result"
    }
   ],
   "source": [
    "dataset['train'][0]"
   ]
  },
  {
   "cell_type": "code",
   "execution_count": 6,
   "metadata": {},
   "outputs": [
    {
     "data": {
      "application/json": {
       "ascii": false,
       "bar_format": null,
       "colour": null,
       "elapsed": 0.022076845169067383,
       "initial": 0,
       "n": 0,
       "ncols": null,
       "nrows": 24,
       "postfix": null,
       "prefix": "",
       "rate": null,
       "total": 3675420,
       "unit": "it",
       "unit_divisor": 1000,
       "unit_scale": false
      },
      "application/vnd.jupyter.widget-view+json": {
       "model_id": "6ffbb5b919e44078b4ed4f3da3d57ee1",
       "version_major": 2,
       "version_minor": 0
      },
      "text/plain": [
       "  0%|          | 0/3675420 [00:00<?, ?it/s]"
      ]
     },
     "metadata": {},
     "output_type": "display_data"
    }
   ],
   "source": [
    "from tqdm.auto import tqdm\n",
    "\n",
    "text_data = []\n",
    "file_count = 0\n",
    "\n",
    "for sample in tqdm(dataset['train']):\n",
    "    sample = sample['text'].replace('\\n', '')\n",
    "    text_data.append(sample)\n",
    "    if len(text_data) == 10_000:\n",
    "        # once we git the 10K mark, save to file\n",
    "        with open(f'./Korean/text_{file_count}.txt', 'w', encoding='utf-8') as fp:\n",
    "            fp.write('\\n'.join(text_data))\n",
    "        text_data = []\n",
    "        file_count += 1\n",
    "# after saving in 10K chunks, we will have ~2082 leftover samples, we save those now too\n",
    "with open(f'./Korean/text_{file_count}.txt', 'w', encoding='utf-8') as fp:\n",
    "    fp.write('\\n'.join(text_data))\n"
   ]
  },
  {
   "cell_type": "code",
   "execution_count": 1,
   "metadata": {},
   "outputs": [
    {
     "data": {
      "text/plain": [
       "['Korean/text_148.txt',\n",
       " 'Korean/text_118.txt',\n",
       " 'Korean/text_298.txt',\n",
       " 'Korean/text_235.txt',\n",
       " 'Korean/text_356.txt',\n",
       " 'Korean/text_64.txt',\n",
       " 'Korean/text_37.txt',\n",
       " 'Korean/text_53.txt',\n",
       " 'Korean/text_33.txt',\n",
       " 'Korean/text_197.txt',\n",
       " 'Korean/text_264.txt',\n",
       " 'Korean/text_161.txt',\n",
       " 'Korean/text_103.txt',\n",
       " 'Korean/text_71.txt',\n",
       " 'Korean/text_192.txt',\n",
       " 'Korean/text_137.txt',\n",
       " 'Korean/text_16.txt',\n",
       " 'Korean/text_318.txt',\n",
       " 'Korean/text_84.txt',\n",
       " 'Korean/text_209.txt',\n",
       " 'Korean/text_185.txt',\n",
       " 'Korean/text_225.txt',\n",
       " 'Korean/text_164.txt',\n",
       " 'Korean/text_362.txt',\n",
       " 'Korean/text_90.txt',\n",
       " 'Korean/text_223.txt',\n",
       " 'Korean/text_355.txt',\n",
       " 'Korean/text_226.txt',\n",
       " 'Korean/text_81.txt',\n",
       " 'Korean/text_136.txt',\n",
       " 'Korean/text_220.txt',\n",
       " 'Korean/text_257.txt',\n",
       " 'Korean/text_252.txt',\n",
       " 'Korean/text_287.txt',\n",
       " 'Korean/text_4.txt',\n",
       " 'Korean/text_200.txt',\n",
       " 'Korean/text_245.txt',\n",
       " 'Korean/text_360.txt',\n",
       " 'Korean/text_319.txt',\n",
       " 'Korean/text_25.txt',\n",
       " 'Korean/text_66.txt',\n",
       " 'Korean/text_34.txt',\n",
       " 'Korean/text_195.txt',\n",
       " 'Korean/text_367.txt',\n",
       " 'Korean/text_289.txt',\n",
       " 'Korean/text_208.txt',\n",
       " 'Korean/text_339.txt',\n",
       " 'Korean/text_15.txt',\n",
       " 'Korean/text_186.txt',\n",
       " 'Korean/text_97.txt',\n",
       " 'Korean/text_286.txt',\n",
       " 'Korean/text_133.txt',\n",
       " 'Korean/text_358.txt',\n",
       " 'Korean/text_36.txt',\n",
       " 'Korean/text_99.txt',\n",
       " 'Korean/text_112.txt',\n",
       " 'Korean/text_343.txt',\n",
       " 'Korean/text_296.txt',\n",
       " 'Korean/text_129.txt',\n",
       " 'Korean/text_17.txt',\n",
       " 'Korean/text_49.txt',\n",
       " 'Korean/text_222.txt',\n",
       " 'Korean/text_171.txt',\n",
       " 'Korean/text_306.txt',\n",
       " 'Korean/text_234.txt',\n",
       " 'Korean/text_89.txt',\n",
       " 'Korean/text_2.txt',\n",
       " 'Korean/text_182.txt',\n",
       " 'Korean/text_342.txt',\n",
       " 'Korean/text_131.txt',\n",
       " 'Korean/text_254.txt',\n",
       " 'Korean/text_56.txt',\n",
       " 'Korean/text_8.txt',\n",
       " 'Korean/text_300.txt',\n",
       " 'Korean/text_346.txt',\n",
       " 'Korean/text_194.txt',\n",
       " 'Korean/text_351.txt',\n",
       " 'Korean/text_7.txt',\n",
       " 'Korean/text_121.txt',\n",
       " 'Korean/text_73.txt',\n",
       " 'Korean/text_201.txt',\n",
       " 'Korean/text_321.txt',\n",
       " 'Korean/text_256.txt',\n",
       " 'Korean/text_230.txt',\n",
       " 'Korean/text_139.txt',\n",
       " 'Korean/text_92.txt',\n",
       " 'Korean/text_152.txt',\n",
       " 'Korean/text_44.txt',\n",
       " 'Korean/text_267.txt',\n",
       " 'Korean/text_250.txt',\n",
       " 'Korean/text_232.txt',\n",
       " 'Korean/text_168.txt',\n",
       " 'Korean/text_135.txt',\n",
       " 'Korean/text_280.txt',\n",
       " 'Korean/text_215.txt',\n",
       " 'Korean/text_141.txt',\n",
       " 'Korean/text_30.txt',\n",
       " 'Korean/text_5.txt',\n",
       " 'Korean/text_219.txt',\n",
       " 'Korean/text_78.txt',\n",
       " 'Korean/text_19.txt',\n",
       " 'Korean/text_227.txt',\n",
       " 'Korean/text_162.txt',\n",
       " 'Korean/text_181.txt',\n",
       " 'Korean/text_122.txt',\n",
       " 'Korean/text_27.txt',\n",
       " 'Korean/text_138.txt',\n",
       " 'Korean/text_69.txt',\n",
       " 'Korean/text_275.txt',\n",
       " 'Korean/text_249.txt',\n",
       " 'Korean/text_22.txt',\n",
       " 'Korean/text_277.txt',\n",
       " 'Korean/text_304.txt',\n",
       " 'Korean/text_62.txt',\n",
       " 'Korean/text_61.txt',\n",
       " 'Korean/text_284.txt',\n",
       " 'Korean/text_333.txt',\n",
       " 'Korean/text_221.txt',\n",
       " 'Korean/text_140.txt',\n",
       " 'Korean/text_255.txt',\n",
       " 'Korean/text_331.txt',\n",
       " 'Korean/text_23.txt',\n",
       " 'Korean/text_180.txt',\n",
       " 'Korean/text_38.txt',\n",
       " 'Korean/text_274.txt',\n",
       " 'Korean/text_109.txt',\n",
       " 'Korean/text_144.txt',\n",
       " 'Korean/text_163.txt',\n",
       " 'Korean/text_54.txt',\n",
       " 'Korean/text_55.txt',\n",
       " 'Korean/text_0.txt',\n",
       " 'Korean/text_52.txt',\n",
       " 'Korean/text_282.txt',\n",
       " 'Korean/text_119.txt',\n",
       " 'Korean/text_353.txt',\n",
       " 'Korean/text_57.txt',\n",
       " 'Korean/text_241.txt',\n",
       " 'Korean/text_273.txt',\n",
       " 'Korean/text_146.txt',\n",
       " 'Korean/text_128.txt',\n",
       " 'Korean/text_158.txt',\n",
       " 'Korean/text_303.txt',\n",
       " 'Korean/text_297.txt',\n",
       " 'Korean/text_336.txt',\n",
       " 'Korean/text_295.txt',\n",
       " 'Korean/text_243.txt',\n",
       " 'Korean/text_213.txt',\n",
       " 'Korean/text_354.txt',\n",
       " 'Korean/text_309.txt',\n",
       " 'Korean/text_229.txt',\n",
       " 'Korean/text_39.txt',\n",
       " 'Korean/text_63.txt',\n",
       " 'Korean/text_311.txt',\n",
       " 'Korean/text_328.txt',\n",
       " 'Korean/text_32.txt',\n",
       " 'Korean/text_359.txt',\n",
       " 'Korean/text_338.txt',\n",
       " 'Korean/text_134.txt',\n",
       " 'Korean/text_251.txt',\n",
       " 'Korean/text_172.txt',\n",
       " 'Korean/text_187.txt',\n",
       " 'Korean/text_239.txt',\n",
       " 'Korean/text_88.txt',\n",
       " 'Korean/text_175.txt',\n",
       " 'Korean/text_143.txt',\n",
       " 'Korean/text_104.txt',\n",
       " 'Korean/text_173.txt',\n",
       " 'Korean/text_106.txt',\n",
       " 'Korean/text_193.txt',\n",
       " 'Korean/text_59.txt',\n",
       " 'Korean/text_198.txt',\n",
       " 'Korean/text_314.txt',\n",
       " 'Korean/text_263.txt',\n",
       " 'Korean/text_100.txt',\n",
       " 'Korean/text_45.txt',\n",
       " 'Korean/text_279.txt',\n",
       " 'Korean/text_115.txt',\n",
       " 'Korean/text_236.txt',\n",
       " 'Korean/text_240.txt',\n",
       " 'Korean/text_46.txt',\n",
       " 'Korean/text_211.txt',\n",
       " 'Korean/text_291.txt',\n",
       " 'Korean/text_40.txt',\n",
       " 'Korean/text_199.txt',\n",
       " 'Korean/text_107.txt',\n",
       " 'Korean/text_218.txt',\n",
       " 'Korean/text_312.txt',\n",
       " 'Korean/text_24.txt',\n",
       " 'Korean/text_6.txt',\n",
       " 'Korean/text_130.txt',\n",
       " 'Korean/text_114.txt',\n",
       " 'Korean/text_196.txt',\n",
       " 'Korean/text_320.txt',\n",
       " 'Korean/text_12.txt',\n",
       " 'Korean/text_357.txt',\n",
       " 'Korean/text_113.txt',\n",
       " 'Korean/text_31.txt',\n",
       " 'Korean/text_261.txt',\n",
       " 'Korean/text_365.txt',\n",
       " 'Korean/text_20.txt',\n",
       " 'Korean/text_259.txt',\n",
       " 'Korean/text_262.txt',\n",
       " 'Korean/text_265.txt',\n",
       " 'Korean/text_50.txt',\n",
       " 'Korean/text_366.txt',\n",
       " 'Korean/text_332.txt',\n",
       " 'Korean/text_202.txt',\n",
       " 'Korean/text_329.txt',\n",
       " 'Korean/text_60.txt',\n",
       " 'Korean/text_116.txt',\n",
       " 'Korean/text_268.txt',\n",
       " 'Korean/text_205.txt',\n",
       " 'Korean/text_142.txt',\n",
       " 'Korean/text_98.txt',\n",
       " 'Korean/text_110.txt',\n",
       " 'Korean/text_207.txt',\n",
       " 'Korean/text_228.txt',\n",
       " 'Korean/text_337.txt',\n",
       " 'Korean/text_188.txt',\n",
       " 'Korean/text_246.txt',\n",
       " 'Korean/text_47.txt',\n",
       " 'Korean/text_327.txt',\n",
       " 'Korean/text_21.txt',\n",
       " 'Korean/text_231.txt',\n",
       " 'Korean/text_165.txt',\n",
       " 'Korean/text_95.txt',\n",
       " 'Korean/text_48.txt',\n",
       " 'Korean/text_206.txt',\n",
       " 'Korean/text_308.txt',\n",
       " 'Korean/text_124.txt',\n",
       " 'Korean/text_28.txt',\n",
       " 'Korean/text_157.txt',\n",
       " 'Korean/text_204.txt',\n",
       " 'Korean/text_325.txt',\n",
       " 'Korean/text_294.txt',\n",
       " 'Korean/text_3.txt',\n",
       " 'Korean/text_293.txt',\n",
       " 'Korean/text_191.txt',\n",
       " 'Korean/text_361.txt',\n",
       " 'Korean/text_305.txt',\n",
       " 'Korean/text_149.txt',\n",
       " 'Korean/text_212.txt',\n",
       " 'Korean/text_352.txt',\n",
       " 'Korean/text_87.txt',\n",
       " 'Korean/text_247.txt',\n",
       " 'Korean/text_79.txt',\n",
       " 'Korean/text_363.txt',\n",
       " 'Korean/text_70.txt',\n",
       " 'Korean/text_169.txt',\n",
       " 'Korean/text_167.txt',\n",
       " 'Korean/text_302.txt',\n",
       " 'Korean/text_51.txt',\n",
       " 'Korean/text_238.txt',\n",
       " 'Korean/text_266.txt',\n",
       " 'Korean/text_315.txt',\n",
       " 'Korean/text_310.txt',\n",
       " 'Korean/text_299.txt',\n",
       " 'Korean/text_316.txt',\n",
       " 'Korean/text_10.txt',\n",
       " 'Korean/text_326.txt',\n",
       " 'Korean/text_307.txt',\n",
       " 'Korean/text_184.txt',\n",
       " 'Korean/text_178.txt',\n",
       " 'Korean/text_76.txt',\n",
       " 'Korean/text_26.txt',\n",
       " 'Korean/text_179.txt',\n",
       " 'Korean/text_347.txt',\n",
       " 'Korean/text_123.txt',\n",
       " 'Korean/text_147.txt',\n",
       " 'Korean/text_216.txt',\n",
       " 'Korean/text_86.txt',\n",
       " 'Korean/text_237.txt',\n",
       " 'Korean/text_77.txt',\n",
       " 'Korean/text_74.txt',\n",
       " 'Korean/text_82.txt',\n",
       " 'Korean/text_214.txt',\n",
       " 'Korean/text_258.txt',\n",
       " 'Korean/text_80.txt',\n",
       " 'Korean/text_334.txt',\n",
       " 'Korean/text_1.txt',\n",
       " 'Korean/text_166.txt',\n",
       " 'Korean/text_102.txt',\n",
       " 'Korean/text_341.txt',\n",
       " 'Korean/text_244.txt',\n",
       " 'Korean/text_313.txt',\n",
       " 'Korean/text_340.txt',\n",
       " 'Korean/text_276.txt',\n",
       " 'Korean/text_9.txt',\n",
       " 'Korean/text_156.txt',\n",
       " 'Korean/text_75.txt',\n",
       " 'Korean/text_41.txt',\n",
       " 'Korean/text_150.txt',\n",
       " 'Korean/text_29.txt',\n",
       " 'Korean/text_345.txt',\n",
       " 'Korean/text_288.txt',\n",
       " 'Korean/text_253.txt',\n",
       " 'Korean/text_43.txt',\n",
       " 'Korean/text_155.txt',\n",
       " 'Korean/text_248.txt',\n",
       " 'Korean/text_203.txt',\n",
       " 'Korean/text_183.txt',\n",
       " 'Korean/text_174.txt',\n",
       " 'Korean/text_317.txt',\n",
       " 'Korean/text_349.txt',\n",
       " 'Korean/text_58.txt',\n",
       " 'Korean/text_177.txt',\n",
       " 'Korean/text_65.txt',\n",
       " 'Korean/text_151.txt',\n",
       " 'Korean/text_145.txt',\n",
       " 'Korean/text_127.txt',\n",
       " 'Korean/text_350.txt',\n",
       " 'Korean/text_281.txt',\n",
       " 'Korean/text_283.txt',\n",
       " 'Korean/text_170.txt',\n",
       " 'Korean/text_68.txt',\n",
       " 'Korean/text_132.txt',\n",
       " 'Korean/text_67.txt',\n",
       " 'Korean/text_278.txt',\n",
       " 'Korean/text_154.txt',\n",
       " 'Korean/text_13.txt',\n",
       " 'Korean/text_292.txt',\n",
       " 'Korean/text_94.txt',\n",
       " 'Korean/text_269.txt',\n",
       " 'Korean/text_217.txt',\n",
       " 'Korean/text_120.txt',\n",
       " 'Korean/text_35.txt',\n",
       " 'Korean/text_91.txt',\n",
       " 'Korean/text_301.txt',\n",
       " 'Korean/text_271.txt',\n",
       " 'Korean/text_96.txt',\n",
       " 'Korean/text_322.txt',\n",
       " 'Korean/text_330.txt',\n",
       " 'Korean/text_270.txt',\n",
       " 'Korean/text_14.txt',\n",
       " 'Korean/text_125.txt',\n",
       " 'Korean/text_105.txt',\n",
       " 'Korean/text_272.txt',\n",
       " 'Korean/text_224.txt',\n",
       " 'Korean/text_83.txt',\n",
       " 'Korean/text_290.txt',\n",
       " 'Korean/text_11.txt',\n",
       " 'Korean/text_233.txt',\n",
       " 'Korean/text_364.txt',\n",
       " 'Korean/text_189.txt',\n",
       " 'Korean/text_160.txt',\n",
       " 'Korean/text_72.txt',\n",
       " 'Korean/text_348.txt',\n",
       " 'Korean/text_18.txt',\n",
       " 'Korean/text_111.txt',\n",
       " 'Korean/text_93.txt',\n",
       " 'Korean/text_324.txt',\n",
       " 'Korean/text_153.txt',\n",
       " 'Korean/text_159.txt',\n",
       " 'Korean/text_42.txt',\n",
       " 'Korean/text_242.txt',\n",
       " 'Korean/text_323.txt',\n",
       " 'Korean/text_176.txt',\n",
       " 'Korean/text_190.txt',\n",
       " 'Korean/text_126.txt',\n",
       " 'Korean/text_344.txt',\n",
       " 'Korean/text_85.txt',\n",
       " 'Korean/text_108.txt',\n",
       " 'Korean/text_117.txt',\n",
       " 'Korean/text_260.txt',\n",
       " 'Korean/text_210.txt',\n",
       " 'Korean/text_285.txt',\n",
       " 'Korean/text_101.txt',\n",
       " 'Korean/text_335.txt']"
      ]
     },
     "execution_count": 1,
     "metadata": {},
     "output_type": "execute_result"
    }
   ],
   "source": [
    "from pathlib import Path\n",
    "\n",
    "paths = [str(x) for x in Path('./Korean').glob('text*.txt')]\n",
    "paths"
   ]
  },
  {
   "cell_type": "code",
   "execution_count": 2,
   "metadata": {},
   "outputs": [],
   "source": [
    "from tokenizers import ByteLevelBPETokenizer\n",
    "\n",
    "tokenizer = ByteLevelBPETokenizer()"
   ]
  },
  {
   "cell_type": "code",
   "execution_count": 3,
   "metadata": {},
   "outputs": [
    {
     "name": "stdout",
     "output_type": "stream",
     "text": [
      "\n",
      "\n",
      "\n"
     ]
    }
   ],
   "source": [
    "tokenizer.train(files=paths[:1], vocab_size=30_522, min_frequency=2,\n",
    "                special_tokens=['<s>', '<pad>', '</s>', '<unk>', '<mask>'])"
   ]
  },
  {
   "cell_type": "code",
   "execution_count": 4,
   "metadata": {},
   "outputs": [
    {
     "data": {
      "text/plain": [
       "['Korean/vocab.json', 'Korean/merges.txt']"
      ]
     },
     "execution_count": 4,
     "metadata": {},
     "output_type": "execute_result"
    }
   ],
   "source": [
    "import os\n",
    "\n",
    "# os.mkdir('./Korean')\n",
    "tokenizer.save_model('Korean')"
   ]
  },
  {
   "cell_type": "code",
   "execution_count": null,
   "metadata": {},
   "outputs": [],
   "source": []
  }
 ],
 "metadata": {
  "kernelspec": {
   "display_name": "pytorch",
   "language": "python",
   "name": "pytorch"
  },
  "language_info": {
   "codemirror_mode": {
    "name": "ipython",
    "version": 3
   },
   "file_extension": ".py",
   "mimetype": "text/x-python",
   "name": "python",
   "nbconvert_exporter": "python",
   "pygments_lexer": "ipython3",
   "version": "3.7.13"
  }
 },
 "nbformat": 4,
 "nbformat_minor": 4
}
