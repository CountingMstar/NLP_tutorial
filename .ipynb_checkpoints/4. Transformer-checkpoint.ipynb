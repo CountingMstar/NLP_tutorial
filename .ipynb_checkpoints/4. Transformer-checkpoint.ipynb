{
 "cells": [
  {
   "cell_type": "code",
   "execution_count": 1,
   "metadata": {},
   "outputs": [],
   "source": [
    "import torch\n",
    "import numpy as np\n",
    "import pickle\n",
    "import nltk\n",
    "# nltk.download('punkt')\n",
    "from nltk.tokenize import word_tokenize\n",
    "from tqdm import tqdm"
   ]
  },
  {
   "cell_type": "markdown",
   "metadata": {},
   "source": [
    "## Data preprocessing"
   ]
  },
  {
   "cell_type": "code",
   "execution_count": 5,
   "metadata": {},
   "outputs": [],
   "source": [
    "def load_data(path):\n",
    "    with open(path, 'rb') as f:\n",
    "\t    data = pickle.load(f)    \n",
    "    return data\n",
    "\n",
    "trainset = load_data('./data/transformer_train.pkl')\n",
    "devset = load_data('./data/transformer_dev.pkl')"
   ]
  },
  {
   "cell_type": "code",
   "execution_count": 6,
   "metadata": {},
   "outputs": [
    {
     "name": "stderr",
     "output_type": "stream",
     "text": [
      "100%|█████████████████████████████████████| 8480/8480 [00:01<00:00, 6961.68it/s]\n"
     ]
    }
   ],
   "source": [
    "english_tokenized=[]\n",
    "french_tokenized=[]\n",
    "for i in tqdm(range(len(trainset))):\n",
    "    eng_sentence = word_tokenize(trainset[i][0])\n",
    "    fr_sentence = word_tokenize(trainset[i][1], language=\"french\")\n",
    "    english_tokenized.append(eng_sentence)\n",
    "    french_tokenized.append(fr_sentence)"
   ]
  },
  {
   "cell_type": "code",
   "execution_count": 7,
   "metadata": {},
   "outputs": [
    {
     "name": "stderr",
     "output_type": "stream",
     "text": [
      "100%|███████████████████████████████████| 8480/8480 [00:00<00:00, 403353.34it/s]\n",
      "100%|███████████████████████████████████| 8480/8480 [00:00<00:00, 596303.22it/s]\n"
     ]
    }
   ],
   "source": [
    "en_word2index = {\"SOS\": 0, \"EOS\": 1, \"UNK\": 2, \"PAD\": 3} \n",
    "en_word2count = {\"SOS\": 10, \"EOS\": 10, \"UNK\": 10, \"PAD\":10}\n",
    "en_index2word = {0: \"SOS\", 1: \"EOS\", 2: \"UNK\", 3: \"PAD\"}\n",
    "en_n_word=4\n",
    "\n",
    "for sentence in tqdm(english_tokenized):\n",
    "    for token in sentence:\n",
    "        if token not in en_word2index:\n",
    "            en_word2index[token] =en_n_word\n",
    "            en_index2word[en_n_word]=token\n",
    "            en_word2count[token] = 1\n",
    "            en_n_word += 1\n",
    "        else:\n",
    "            en_word2count[token] += 1\n",
    "\n",
    "fr_word2index = {\"SOS\": 0, \"EOS\": 1, \"UNK\": 2, \"PAD\": 3} \n",
    "fr_word2count = {\"SOS\": 10, \"EOS\": 10, \"UNK\": 10, \"PAD\": 10}\n",
    "fr_index2word = {0: \"SOS\", 1: \"EOS\", 2: \"UNK\", 3: \"PAD\"}\n",
    "fr_n_word=4\n",
    "\n",
    "for sentence in tqdm(french_tokenized):\n",
    "    for token in sentence:\n",
    "        if token not in fr_word2index:\n",
    "            fr_word2index[token] =fr_n_word\n",
    "            fr_index2word[fr_n_word]=token\n",
    "            fr_word2count[token] = 1\n",
    "            fr_n_word += 1\n",
    "        else:\n",
    "            fr_word2count[token] += 1"
   ]
  },
  {
   "cell_type": "code",
   "execution_count": 8,
   "metadata": {},
   "outputs": [
    {
     "name": "stderr",
     "output_type": "stream",
     "text": [
      "100%|███████████████████████████████████| 8480/8480 [00:00<00:00, 178125.27it/s]\n",
      "100%|███████████████████████████████████| 8480/8480 [00:00<00:00, 251233.99it/s]\n"
     ]
    }
   ],
   "source": [
    "en_train_data=[]\n",
    "for sentence in tqdm(english_tokenized):\n",
    "    sentence_idx = [en_word2index[w] if w in en_word2index else en_word2index['UNK'] for w in sentence ]\n",
    "    sentence_idx = [0] + sentence_idx + [1] # add \"SOS\"&\"EOS\" token\n",
    "    sentence_idx = torch.LongTensor(sentence_idx)\n",
    "    en_train_data.append(sentence_idx)\n",
    "\n",
    "fr_train_data=[]\n",
    "for sentence in tqdm(french_tokenized):\n",
    "    sentence_idx = [fr_word2index[w] if w in fr_word2index else fr_word2index['UNK'] for w in sentence]\n",
    "    sentence_idx = [0] + sentence_idx + [1] # add \"EOS\" token\n",
    "    sentence_idx = torch.LongTensor(sentence_idx)\n",
    "    fr_train_data.append(sentence_idx)"
   ]
  },
  {
   "cell_type": "code",
   "execution_count": 9,
   "metadata": {},
   "outputs": [
    {
     "name": "stderr",
     "output_type": "stream",
     "text": [
      "100%|█████████████████████████████████████| 2119/2119 [00:00<00:00, 6946.19it/s]\n",
      "100%|███████████████████████████████████| 2119/2119 [00:00<00:00, 212676.00it/s]\n",
      "100%|███████████████████████████████████| 2119/2119 [00:00<00:00, 221219.89it/s]\n"
     ]
    }
   ],
   "source": [
    "# Preprocess devset\n",
    "english_dev_tokenized=[]\n",
    "french_dev_tokenized=[]\n",
    "for i in tqdm(range(len(devset))):\n",
    "    eng_sentence = word_tokenize(devset[i][0])\n",
    "    fr_sentence = word_tokenize(devset[i][1], language=\"french\")\n",
    "    english_dev_tokenized.append(eng_sentence)\n",
    "    french_dev_tokenized.append(fr_sentence)\n",
    "\n",
    "en_dev_data=[]\n",
    "for sentence in tqdm(english_dev_tokenized):\n",
    "    sentence_idx = [en_word2index[w] if w in en_word2index else en_word2index['UNK'] for w in sentence ]\n",
    "    sentence_idx = [0] + sentence_idx + [1] # add \"SOS\" & \"EOS\" token\n",
    "    sentence_idx = torch.LongTensor(sentence_idx)\n",
    "    en_dev_data.append(sentence_idx)\n",
    "\n",
    "fr_dev_data=[]\n",
    "for sentence in tqdm(french_dev_tokenized):\n",
    "    sentence_idx = [fr_word2index[w] if w in fr_word2index else fr_word2index['UNK'] for w in sentence]\n",
    "    sentence_idx = [0] + sentence_idx + [1] # add \"EOS\" token /  \"SOS\" token would be added in training step!\n",
    "    sentence_idx = torch.LongTensor(sentence_idx)\n",
    "    fr_dev_data.append(sentence_idx)"
   ]
  },
  {
   "cell_type": "code",
   "execution_count": 11,
   "metadata": {},
   "outputs": [],
   "source": [
    "padding_token = en_word2count[\"PAD\"]\n",
    "en_train_max = np.max([len(en_train_data[i]) for i in range(len(en_train_data))])\n",
    "fr_train_max = np.max([len(fr_train_data[i]) for i in range(len(fr_train_data))])\n",
    "en_dev_max = np.max([len(en_dev_data[i]) for i in range(len(en_dev_data))])\n",
    "fr_dev_max = np.max([len(fr_dev_data[i]) for i in range(len(fr_dev_data))])\n",
    "max_len = np.max([en_train_max, fr_train_max, en_dev_max, fr_dev_max])\n",
    "\n",
    "# Pad the tokens to fix the length\n",
    "en_train_data = [torch.cat([i, torch.zeros(max_len-len(i), dtype=torch.long) + en_word2index[\"PAD\"]]) if len(i) < max_len+1 else i[:max_len] for i in en_train_data]\n",
    "en_dev_data = [torch.cat([i, torch.zeros(max_len-len(i), dtype=torch.long) + en_word2index[\"PAD\"]]) if len(i) < max_len+1 else i[:max_len] for i in en_dev_data]\n",
    "fr_train_data = [torch.cat([i, torch.zeros(max_len-len(i), dtype=torch.long) + fr_word2index[\"PAD\"]]) if len(i) < max_len else i[:max_len] for i in fr_train_data]\n",
    "fr_dev_data = [torch.cat([i, torch.zeros(max_len-len(i), dtype=torch.long) + fr_word2index[\"PAD\"]]) if len(i) < max_len else i[:max_len] for i in fr_dev_data]"
   ]
  },
  {
   "cell_type": "markdown",
   "metadata": {},
   "source": [
    "## Transformer Mechanism"
   ]
  },
  {
   "cell_type": "code",
   "execution_count": 12,
   "metadata": {},
   "outputs": [],
   "source": [
    "import torch.nn as nn\n",
    "import torch.nn.functional as F\n",
    "import math\n",
    "\n",
    "class SelfAttention(nn.Module):\n",
    "    def __init__(self):\n",
    "        super(SelfAttention,self).__init__()\n",
    "        self.matmul = torch.matmul\n",
    "        self.softmax = torch.softmax\n",
    "\n",
    "    def forward(self,query, key, value, mask=None):\n",
    "        key_transpose = torch.transpose(key,-2,-1)          # (bath, head_num, d_k, token_)\n",
    "        matmul_result = self.matmul(query,key_transpose)    # MatMul(Q,K)\n",
    "        d_k = key.size()[-1]\n",
    "        attention_score = matmul_result/math.sqrt(d_k)      # Scale\n",
    "\n",
    "        if mask is not None:\n",
    "            attention_score = attention_score.masked_fill(mask == 0, -1e20)\n",
    "\n",
    "            softmax_attention_score = self.softmax(attention_score,dim=-1)\n",
    "            result = self.matmul(softmax_attention_score,value)\n",
    "\n",
    "        return result, softmax_attention_score"
   ]
  },
  {
   "cell_type": "code",
   "execution_count": 13,
   "metadata": {},
   "outputs": [],
   "source": [
    "class MultiHeadAttention(nn.Module):\n",
    "    def __init__(self, head_num =8 , d_model = 512,dropout = 0.1):\n",
    "        super(MultiHeadAttention,self).__init__()\n",
    "\n",
    "        assert d_model % head_num == 0 \n",
    "\n",
    "        self.head_num = head_num\n",
    "        self.d_model = d_model\n",
    "        self.d_k = self.d_v = d_model // head_num\n",
    "\n",
    "        self.w_q = nn.Linear(d_model,d_model)\n",
    "        self.w_k = nn.Linear(d_model,d_model)\n",
    "        self.w_v = nn.Linear(d_model,d_model)\n",
    "        self.w_o = nn.Linear(d_model,d_model)\n",
    "\n",
    "        self.self_attention = SelfAttention()\n",
    "        self.dropout = nn.Dropout(p=dropout)\n",
    "\n",
    "    def forward(self, query, key, value, mask = None):\n",
    "        if mask is not None:\n",
    "          # Same mask applied to all h heads.\n",
    "          mask = mask.unsqueeze(1)\n",
    "\n",
    "        batche_num = query.size(0)\n",
    "\n",
    "        query = self.w_q(query).view(batche_num, -1, self.head_num, self.d_k).transpose(1, 2)\n",
    "        key = self.w_k(key).view(batche_num, -1, self.head_num, self.d_k).transpose(1, 2)\n",
    "        value = self.w_v(value).view(batche_num, -1, self.head_num, self.d_k).transpose(1, 2)\n",
    "\n",
    "        attention_result, attention_score = self.self_attention(query, key, value, mask)\n",
    "\n",
    "        attention_result = attention_result.transpose(1,2).contiguous().view(batche_num, -1, self.head_num * self.d_k)\n",
    "\n",
    "        return self.w_o(attention_result)"
   ]
  },
  {
   "cell_type": "code",
   "execution_count": 14,
   "metadata": {},
   "outputs": [],
   "source": [
    "from torch.autograd import Variable\n",
    "\n",
    "class LayerNorm(nn.Module):\n",
    "    def __init__(self, features, eps=1e-6):\n",
    "        super(LayerNorm,self).__init__()\n",
    "        self.a_2 = nn.Parameter(torch.ones(features))\n",
    "        self.b_2 = nn.Parameter(torch.zeros(features))\n",
    "        self.eps = eps\n",
    "    def forward(self, x):\n",
    "        mean = x.mean(-1, keepdim =True)\n",
    "        std = x.std(-1, keepdim=True) \n",
    "\n",
    "        return self.a_2 * (x-mean)/ (std + self.eps) + self.b_2\n",
    "\n",
    "class ResidualConnection(nn.Module):\n",
    "    def __init__(self, size, dropout):\n",
    "        super(ResidualConnection,self).__init__()\n",
    "        self.norm = LayerNorm(size)\n",
    "        self.dropout = nn.Dropout(dropout)\n",
    "\n",
    "    def forward(self, x, sublayer):\n",
    "        return x + self.dropout((sublayer(self.norm(x))))\n",
    "    \n",
    "class Embeddings(nn.Module):\n",
    "    def __init__(self, vocab_num, d_model):\n",
    "            super(Embeddings,self).__init__()\n",
    "            self.emb = nn.Embedding(vocab_num,d_model)\n",
    "            self.d_model = d_model\n",
    "    def forward(self, x):\n",
    "        ##########\n",
    "        norm = 10\n",
    "        ##########\n",
    "        return self.emb(x) * math.sqrt(self.d_model) / norm\n",
    "    \n",
    "class PositionalEncoding(nn.Module):\n",
    "    def __init__(self, max_seq_len, d_model,dropout=0.1):\n",
    "        super(PositionalEncoding,self).__init__()\n",
    "        self.dropout = nn.Dropout(p=dropout)\n",
    "\n",
    "        pe = torch.zeros(max_seq_len, d_model)\n",
    "\n",
    "        position = torch.arange(0,max_seq_len).unsqueeze(1)\n",
    "        base = torch.ones(d_model//2).fill_(10000)\n",
    "        pow_term = torch.arange(0, d_model, 2) / torch.tensor(d_model,dtype=torch.float32)\n",
    "        div_term = torch.pow(base,pow_term)\n",
    "\n",
    "        pe[:, 0::2] = torch.sin(position / div_term)\n",
    "        pe[:, 1::2] = torch.cos(position / div_term)\n",
    "\n",
    "        pe = pe.unsqueeze(0)\n",
    "\n",
    "        # Do not train pe!\n",
    "        self.register_buffer('positional_encoding', pe)\n",
    "\n",
    "    def forward(self, x):\n",
    "        x = x + Variable(self.positional_encoding[:, :x.size(1)], requires_grad=False)\n",
    "        return self.dropout(x)\n",
    "    \n",
    "class FeedForward(nn.Module):\n",
    "    def __init__(self,d_model, dropout = 0.1):\n",
    "        super(FeedForward,self).__init__()\n",
    "        self.w_1 = nn.Linear(d_model, d_model*4)\n",
    "        self.w_2 = nn.Linear(d_model*4, d_model)\n",
    "        self.dropout = nn.Dropout(p=dropout)\n",
    "\n",
    "    def forward(self, x):\n",
    "        return self.w_2(self.dropout(F.relu(self.w_1(x))))"
   ]
  },
  {
   "cell_type": "code",
   "execution_count": 15,
   "metadata": {},
   "outputs": [],
   "source": [
    "import copy\n",
    "# to stack the layer!\n",
    "def clones(module, N):\n",
    "    \"Produce N identical layers.\"\n",
    "    return nn.ModuleList([copy.deepcopy(module) for _ in range(N)])\n",
    "\n",
    "def subsequent_mask(size):\n",
    "    \"Mask out subsequent positions.\"\n",
    "    attn_shape = (1, size, size)\n",
    "    subsequent_mask = np.triu(np.ones(attn_shape), k=1).astype('uint8')\n",
    "    return torch.from_numpy(subsequent_mask) == 0\n",
    "\n",
    "def make_pad_mask(query, key, pad_idx=3):\n",
    "    # key: (n_batch, key_seq_len)\n",
    "    query_seq_len, key_seq_len = len(query), len(key)\n",
    "    key_mask = key.ne(pad_idx)\n",
    "\n",
    "    key_mask = key_mask.repeat(1, 1, query_seq_len, 1)    # (n_batch, 1, query_seq_len, key_seq_len)\n",
    "\n",
    "    query_mask = query.ne(pad_idx).unsqueeze(0)  # (n_batch, 1, query_seq_len, 1)\n",
    "    query_mask = query_mask.transpose(-1,0).repeat(1, 1, 1, key_seq_len)  # (n_batch, 1, query_seq_len, key_seq_len)\n",
    "\n",
    "    mask = key_mask & query_mask\n",
    "    mask = mask.squeeze(0)\n",
    "    mask.requires_grad = False\n",
    "    return mask"
   ]
  },
  {
   "cell_type": "code",
   "execution_count": 16,
   "metadata": {},
   "outputs": [],
   "source": [
    "class Encoder(nn.Module):\n",
    "    def __init__(self, d_model, head_num, dropout):\n",
    "        super(Encoder,self).__init__()\n",
    "        self.multi_head_attention = MultiHeadAttention(d_model= d_model, head_num= head_num)\n",
    "        self.residual_1 = ResidualConnection(d_model,dropout=dropout)\n",
    "\n",
    "        self.feed_forward = FeedForward(d_model)\n",
    "        self.residual_2 = ResidualConnection(d_model,dropout=dropout)\n",
    "\n",
    "    def forward(self, input, mask):\n",
    "        x = self.residual_1(input, lambda x: self.multi_head_attention(x, x, x, mask))\n",
    "        x = self.residual_2(x, lambda x: self.feed_forward(x))\n",
    "        return x"
   ]
  },
  {
   "cell_type": "code",
   "execution_count": 17,
   "metadata": {},
   "outputs": [],
   "source": [
    "class Decoder(nn.Module):\n",
    "    def __init__(self, d_model,head_num, dropout):\n",
    "        super(Decoder,self).__init__()\n",
    "        self.masked_multi_head_attention = MultiHeadAttention(d_model= d_model, head_num= head_num)\n",
    "        self.residual_1 = ResidualConnection(d_model,dropout=dropout)\n",
    "\n",
    "        self.encoder_decoder_attention = MultiHeadAttention(d_model= d_model, head_num= head_num)\n",
    "        self.residual_2 = ResidualConnection(d_model,dropout=dropout)\n",
    "\n",
    "        self.feed_forward= FeedForward(d_model)\n",
    "        self.residual_3 = ResidualConnection(d_model,dropout=dropout)\n",
    "\n",
    "\n",
    "    def forward(self, target, encoder_output, target_mask, encoder_mask):\n",
    "        # target, x, target_mask, input_mask\n",
    "        x = self.residual_1(target, lambda x: self.masked_multi_head_attention(x, x, x, target_mask))\n",
    "        x = self.residual_2(x, lambda x: self.encoder_decoder_attention(x, encoder_output, encoder_output, encoder_mask))\n",
    "        x = self.residual_3(x, self.feed_forward)\n",
    "\n",
    "        return x"
   ]
  },
  {
   "cell_type": "code",
   "execution_count": 18,
   "metadata": {},
   "outputs": [],
   "source": [
    "class Generator(nn.Module):\n",
    "    \"Define standard linear + softmax generation step.\"\n",
    "    def __init__(self, d_model, vocab):\n",
    "        super(Generator, self).__init__()\n",
    "        self.proj = nn.Linear(d_model, vocab)\n",
    "\n",
    "    def forward(self, x):\n",
    "        return F.log_softmax(self.proj(x), dim=-1)\n",
    "\n",
    "class Transformer(nn.Module):\n",
    "    def __init__(self,input_vocab_num, output_vocab_num, d_model, max_seq_len, head_num, dropout, N):\n",
    "        super(Transformer,self).__init__()\n",
    "        self.input_embedding = Embeddings(input_vocab_num, d_model)\n",
    "        self.output_embedding = Embeddings(output_vocab_num, d_model)\n",
    "        self.positional_encoding = PositionalEncoding(max_seq_len,d_model)\n",
    "\n",
    "        self.encoders = clones(Encoder(d_model=d_model, head_num=head_num, dropout=dropout), N)\n",
    "        self.decoders = clones(Decoder(d_model=d_model, head_num=head_num, dropout=dropout), N)\n",
    "\n",
    "        self.generator = Generator(d_model, output_vocab_num)\n",
    "\n",
    "    def forward(self, input, target, input_mask, target_mask, labels=None):\n",
    "        x = self.positional_encoding(self.input_embedding(input))\n",
    "        for encoder in self.encoders:\n",
    "            x = encoder(x, input_mask)\n",
    "\n",
    "        target = self.positional_encoding(self.output_embedding(target))\n",
    "        for decoder in self.decoders:\n",
    "            # target, encoder_output, target_mask, encoder_mask)\n",
    "            target = decoder(target, x, target_mask, input_mask)\n",
    "\n",
    "        lm_logits = self.generator(target)\n",
    "        loss = None\n",
    "        if labels is not None:\n",
    "            # Shift so that tokens < n predict n\n",
    "            shift_logits = lm_logits[..., :-1, :].contiguous()\n",
    "            shift_labels = labels[..., 1:].contiguous()\n",
    "            # Flatten the tokens\n",
    "            loss_fct = nn.CrossEntropyLoss(ignore_index=3)\n",
    "            loss = loss_fct(shift_logits.view(-1, shift_logits.size(-1)), shift_labels.view(-1))\n",
    "\n",
    "        return lm_logits, loss\n",
    "    def encode(self,input, input_mask):\n",
    "        x = self.positional_encoding(self.input_embedding(input))\n",
    "        for encoder in self.encoders:\n",
    "            x = encoder(x, input_mask)\n",
    "        return x\n",
    "\n",
    "    def decode(self, encode_output, encoder_mask, target, target_mask):\n",
    "        target = self.positional_encoding(self.output_embedding(target))\n",
    "        for decoder in self.decoders:\n",
    "        #target, encoder_output, target_mask, encoder_mask\n",
    "            target = decoder(target, encode_output, target_mask, encoder_mask)\n",
    "\n",
    "            lm_logits = self.generator(target)\n",
    "\n",
    "        return lm_logits"
   ]
  },
  {
   "cell_type": "markdown",
   "metadata": {},
   "source": [
    "## Training "
   ]
  },
  {
   "cell_type": "code",
   "execution_count": 19,
   "metadata": {},
   "outputs": [
    {
     "name": "stdout",
     "output_type": "stream",
     "text": [
      "cuda\n"
     ]
    },
    {
     "name": "stderr",
     "output_type": "stream",
     "text": [
      "8480it [02:33, 55.35it/s]\n",
      "8480it [02:29, 56.70it/s]\n"
     ]
    }
   ],
   "source": [
    "#training step\n",
    "from torch.optim import Adam\n",
    "from nltk.translate.bleu_score import sentence_bleu\n",
    "import random\n",
    "from tqdm import tqdm\n",
    "import math\n",
    "\n",
    "#Basic Hyper-parameters\n",
    "epochs=2\n",
    "hidden_size=32\n",
    "max_len=12\n",
    "att_n= 4\n",
    "dropout_rate =0.2\n",
    "num_stack = 2\n",
    "\n",
    "device = \"cuda\" if torch.cuda.is_available() else \"cpu\"\n",
    "print(device)\n",
    "# device='cpu'\n",
    "\n",
    "model = Transformer(len(en_word2index), len(fr_word2index), hidden_size, max_len, att_n, dropout_rate, num_stack)\n",
    "optimizer = Adam(model.parameters(), lr=1e-3)\n",
    "losses = []\n",
    "\n",
    "model = model.to(device)\n",
    "model.train()\n",
    "\n",
    "for epoch in range(epochs):\n",
    "    \n",
    "    # criterion.to(device)\n",
    "    for i, batch in tqdm(enumerate(zip(en_train_data, fr_train_data))):\n",
    "        # if i < 1000:\n",
    "        en_sentence, fr_sentence = batch\n",
    "        en_sentence = en_sentence.to(device)\n",
    "        fr_sentence = fr_sentence.to(device)\n",
    "        source_mask = make_pad_mask(en_sentence, en_sentence).to(device) # do not attend [PAD] tokens\n",
    "        target_pad_mask = make_pad_mask(fr_sentence,fr_sentence).to(device)\n",
    "        target_subseq_mask = subsequent_mask(len(fr_sentence)).to(device)\n",
    "        target_mask = target_pad_mask & target_subseq_mask\n",
    "        \n",
    "        optimizer.zero_grad()\n",
    "        \n",
    "        logits, loss = model(en_sentence,fr_sentence, source_mask, target_mask, labels=fr_sentence)       \n",
    "        # input = fr_sentence[t]\n",
    "        losses.append(loss.item())\n",
    "        loss.backward()\n",
    "        optimizer.step()"
   ]
  },
  {
   "cell_type": "code",
   "execution_count": 20,
   "metadata": {},
   "outputs": [
    {
     "data": {
      "image/png": "[encoded data removed]",
      "text/plain": [
       "<Figure size 432x288 with 1 Axes>"
      ]
     },
     "metadata": {
      "needs_background": "light"
     },
     "output_type": "display_data"
    },
    {
     "name": "stdout",
     "output_type": "stream",
     "text": [
      "Sum of loss: 52671.8521\n",
      "Average of loss: 3.1057\n"
     ]
    }
   ],
   "source": [
    "#check the train_loss\n",
    "from matplotlib import pyplot as plt\n",
    "losses\n",
    "samples = np.linspace(0, 2*8480, num = len(losses))\n",
    "plt.plot(samples, losses, color = \"blue\", label=losses)\n",
    "plt.title(\"training_loss\")\n",
    "plt.show()\n",
    "print(\"Sum of loss: %.4f\" %sum(losses))\n",
    "print(\"Average of loss: %.4f\" %(sum(losses)/len(losses)))"
   ]
  },
  {
   "cell_type": "markdown",
   "metadata": {},
   "source": [
    "## Test"
   ]
  },
  {
   "cell_type": "code",
   "execution_count": 22,
   "metadata": {},
   "outputs": [
    {
     "name": "stderr",
     "output_type": "stream",
     "text": [
      "0it [00:00, ?it/s]/home/moonstar/anaconda3/envs/pytorch/lib/python3.7/site-packages/nltk/translate/bleu_score.py:552: UserWarning: \n",
      "The hypothesis contains 0 counts of 3-gram overlaps.\n",
      "Therefore the BLEU score evaluates to 0, independently of\n",
      "how many N-gram overlaps of lower order it contains.\n",
      "Consider using lower n-gram order or use SmoothingFunction()\n",
      "  warnings.warn(_msg)\n",
      "/home/moonstar/anaconda3/envs/pytorch/lib/python3.7/site-packages/nltk/translate/bleu_score.py:552: UserWarning: \n",
      "The hypothesis contains 0 counts of 4-gram overlaps.\n",
      "Therefore the BLEU score evaluates to 0, independently of\n",
      "how many N-gram overlaps of lower order it contains.\n",
      "Consider using lower n-gram order or use SmoothingFunction()\n",
      "  warnings.warn(_msg)\n",
      "4it [00:00, 33.72it/s]/home/moonstar/anaconda3/envs/pytorch/lib/python3.7/site-packages/nltk/translate/bleu_score.py:552: UserWarning: \n",
      "The hypothesis contains 0 counts of 2-gram overlaps.\n",
      "Therefore the BLEU score evaluates to 0, independently of\n",
      "how many N-gram overlaps of lower order it contains.\n",
      "Consider using lower n-gram order or use SmoothingFunction()\n",
      "  warnings.warn(_msg)\n",
      "9it [00:00, 38.47it/s]"
     ]
    },
    {
     "name": "stdout",
     "output_type": "stream",
     "text": [
      "==============check the 0th output================\n",
      "original_sentence: je suis malade .\n",
      "model_output: je suis toujours de votre revoir .\n"
     ]
    },
    {
     "name": "stderr",
     "output_type": "stream",
     "text": [
      "1008it [00:24, 40.35it/s]"
     ]
    },
    {
     "name": "stdout",
     "output_type": "stream",
     "text": [
      "==============check the 1000th output================\n",
      "original_sentence: je suis plus petit que vous .\n",
      "model_output: je suis tres jeune que vous revoir .\n"
     ]
    },
    {
     "name": "stderr",
     "output_type": "stream",
     "text": [
      "2007it [00:48, 41.24it/s]"
     ]
    },
    {
     "name": "stdout",
     "output_type": "stream",
     "text": [
      "==============check the 2000th output================\n",
      "original_sentence: je suis desole mais je ne comprends pas .\n",
      "model_output: je suis desolee de te revoir .\n"
     ]
    },
    {
     "name": "stderr",
     "output_type": "stream",
     "text": [
      "2119it [00:50, 41.71it/s]"
     ]
    },
    {
     "name": "stdout",
     "output_type": "stream",
     "text": [
      "average sentence_bleu: 0.382848070378726\n"
     ]
    },
    {
     "name": "stderr",
     "output_type": "stream",
     "text": [
      "\n"
     ]
    }
   ],
   "source": [
    "#evaluate\n",
    "from nltk.translate.bleu_score import sentence_bleu\n",
    "\n",
    "target_length=12\n",
    "scores=0.0\n",
    "\n",
    "with torch.no_grad():\n",
    "    for i, batch in tqdm(enumerate(zip(en_dev_data, fr_dev_data))):\n",
    "        en_sentence, fr_sentence = batch\n",
    "        en_sentence = en_sentence.to(device)\n",
    "        fr_sentence = fr_sentence.to(device)\n",
    "        \n",
    "        source_mask = make_pad_mask(en_sentence, en_sentence).to(device) # do not attend [PAD] tokens\n",
    "        \n",
    "        target_pad_mask = make_pad_mask(fr_sentence,fr_sentence).to(device)\n",
    "        target_subseq_mask = subsequent_mask(len(fr_sentence)).to(device) # do not attend next tokens !\n",
    "        target_mask = target_pad_mask & target_subseq_mask\n",
    "        \n",
    "        encoder_output = model.encode(en_sentence, source_mask)\n",
    "        \n",
    "        # input = torch.tensor(0, device=device)\n",
    "        \n",
    "        # outputs = torch.zeros(target_length, 1, fr_n_word, device=device) # length * batch_size * vocab_size\n",
    "        \n",
    "        decoded_sentence = torch.zeros(1,1).fill_(fr_word2index['SOS']).type_as(en_sentence.data)\n",
    "        \n",
    "        for t in range(1, target_length):\n",
    "            cross_mask = source_mask[:,:t,:]\n",
    "            target_mask = subsequent_mask(decoded_sentence.size(1)).to(device)\n",
    "            output = model.decode(encoder_output, cross_mask, decoded_sentence, target_mask) \n",
    "            prob = output[:,-1]\n",
    "            _, next_word = torch.max(prob, dim=1)\n",
    "            if int(next_word) == fr_word2index['EOS']:\n",
    "                break\n",
    "            else:\n",
    "                decoded_sentence = torch.cat([decoded_sentence, torch.zeros(1,1).type_as(en_sentence.data).fill_(next_word.item())], dim=1)\n",
    "        \n",
    "        num_pad = fr_sentence.tolist().count(3)\n",
    "        fr_sentence = fr_sentence[1:-num_pad-1]\n",
    "        truth = [fr_index2word[int(w)] if int(w) in fr_index2word.keys() else 'UNK' for w in fr_sentence ]\n",
    "        decoded_sentence = decoded_sentence.tolist()[0]\n",
    "        decoded_sentence = [fr_index2word[int(w)] if int(w) in fr_index2word.keys() else 'UNK' for w in decoded_sentence]\n",
    "        decoded_sentence = decoded_sentence[1:]\n",
    "\n",
    "        scores += sentence_bleu([truth], decoded_sentence, weights=(1, 0, 0, 0)) \n",
    "        \n",
    "        if i % 1000 == 0:\n",
    "            print(f\"==============check the {i}th output================\")\n",
    "            model_output = ' '.join(decoded_sentence)\n",
    "            truth = ' '.join(truth)\n",
    "            print(f\"original_sentence: {truth}\")\n",
    "            print(f\"model_output: {model_output}\")\n",
    "    print(f\"average sentence_bleu: {scores/len(en_dev_data)}\")\n",
    "        # score = scorer.score(fr_sentence, )"
   ]
  },
  {
   "cell_type": "markdown",
   "metadata": {},
   "source": [
    "## Heatmap"
   ]
  },
  {
   "cell_type": "code",
   "execution_count": 23,
   "metadata": {},
   "outputs": [],
   "source": [
    "import matplotlib.pyplot as plt\n",
    "import pandas as pd\n",
    "\n",
    "\n",
    "def draw_attentions(attention_map, input_sentence, output_sentence=None):\n",
    "    if output_sentence == None:        \n",
    "        att = pd.DataFrame(attention_map.squeeze(0).to('cpu').detach().numpy()).astype(\"float\")\n",
    "        att.columns = [en_index2word[int(i)] for i in input_sentence]\n",
    "        att = att.rename({i:j for i,j in zip(att.index,[en_index2word[int(i)] for i in input_sentence])})\n",
    "        plt.pcolor(att)\n",
    "        plt.xticks(np.arange(0.5, len(att.columns), 1), att.columns)\n",
    "        plt.yticks(np.arange(0.5, len(att.index), 1), att.index)\n",
    "        plt.title(\"Self-attention Heatmap\")\n",
    "        plt.colorbar()\n",
    "        plt.show()\n",
    "    else:\n",
    "        att = pd.DataFrame(attention_map.squeeze(0).to('cpu').detach().numpy()).astype(\"float\")\n",
    "        att.columns = [fr_index2word[int(i)] for i in input_sentence]\n",
    "        att = att.rename(index={i:j for i,j in zip(att.index,[en_index2word[int(i)] for i in input_sentence])})\n",
    "        plt.pcolor(att)\n",
    "        plt.xticks(np.arange(0.5, len(att.columns), 1), att.columns)\n",
    "        plt.yticks(np.arange(0.5, len(att.index), 1), att.index)\n",
    "        plt.title(\"Cross-Attention Heatmap\")\n",
    "        plt.colorbar()\n",
    "        plt.show() "
   ]
  },
  {
   "cell_type": "code",
   "execution_count": 24,
   "metadata": {},
   "outputs": [],
   "source": [
    "import random\n",
    "\n",
    "#random sample\n",
    "index = random.randrange(len(en_train_data))\n",
    "# print(index)\n",
    "\n",
    "#input embedding\n",
    "src_examples = model.input_embedding(en_train_data[index].to(device)).unsqueeze(0)\n",
    "trg_examples = model.output_embedding(fr_train_data[index].to(device)).unsqueeze(0)\n",
    "src_examples = model.positional_encoding(src_examples)\n",
    "trg_examples = model.positional_encoding(trg_examples)\n",
    "\n",
    "#make mask\n",
    "source_mask = make_pad_mask(en_train_data[index], en_train_data[index]).to(device)\n",
    "target_pad_mask = make_pad_mask(fr_train_data[index],fr_train_data[index]).to(device)\n",
    "target_subseq_mask = subsequent_mask(len(fr_train_data[index])).to(device)\n",
    "target_mask = target_pad_mask & target_subseq_mask\n",
    "\n",
    "\n",
    "# encoder attention"
   ]
  },
  {
   "cell_type": "code",
   "execution_count": 25,
   "metadata": {},
   "outputs": [],
   "source": [
    "first_att = src_examples[:,:,:8]"
   ]
  },
  {
   "cell_type": "code",
   "execution_count": 26,
   "metadata": {},
   "outputs": [
    {
     "name": "stdout",
     "output_type": "stream",
     "text": [
      "torch.Size([1, 12, 12])\n"
     ]
    },
    {
     "data": {
      "image/png": "[encoded data removed]",
      "text/plain": [
       "<Figure size 432x288 with 2 Axes>"
      ]
     },
     "metadata": {
      "needs_background": "light"
     },
     "output_type": "display_data"
    }
   ],
   "source": [
    "encoder_attentions  = model.encoders[0].multi_head_attention.self_attention(first_att, first_att, first_att, source_mask)\n",
    "print(encoder_attentions[1].shape)\n",
    "\n",
    "draw_attentions(encoder_attentions[1], en_train_data[index])"
   ]
  },
  {
   "cell_type": "code",
   "execution_count": 27,
   "metadata": {},
   "outputs": [
    {
     "data": {
      "image/png": "[encoded data removed]",
      "text/plain": [
       "<Figure size 432x288 with 2 Axes>"
      ]
     },
     "metadata": {
      "needs_background": "light"
     },
     "output_type": "display_data"
    }
   ],
   "source": [
    "encode_output = model.encode(en_train_data[index].to(device), source_mask)\n",
    "\n",
    "\n",
    "# dec_att_output  = model.decoders[0].masked_multi_head_attention(trg_examples, trg_examples, trg_examples, target_mask)\n",
    "dec_att_output = model.decoders[0].residual_1(trg_examples, lambda x: model.decoders[0].masked_multi_head_attention(x, x, x, target_mask))\n",
    "cross_att_output, cross_att_score = model.decoders[0].encoder_decoder_attention.self_attention(dec_att_output[:,:,:8], encode_output[:,:,:8], encode_output[:,:,:8], source_mask)\n",
    "draw_attentions(cross_att_score, en_train_data[index], fr_train_data[index])"
   ]
  },
  {
   "cell_type": "code",
   "execution_count": 28,
   "metadata": {},
   "outputs": [
    {
     "data": {
      "text/plain": [
       "tensor([[[ 3.8478e-01,  8.0450e-03, -7.3974e-01,  4.1870e-01, -2.2511e-01,\n",
       "           7.8027e-01, -1.1874e+00,  1.5907e+00,  7.4279e-01, -1.0108e+00,\n",
       "          -5.3742e-01,  1.7950e+00,  8.1354e-01,  3.0225e-01,  2.1426e-01,\n",
       "          -6.3306e-01, -2.6903e-01, -9.1380e-01, -1.3126e-01, -8.2073e-01,\n",
       "          -1.6273e-01,  1.4612e+00,  1.7645e-01, -3.6713e-01,  1.3999e-01,\n",
       "           1.3153e+00, -1.4982e-01, -2.5379e-01,  2.8374e-01,  1.0756e+00,\n",
       "           5.9428e-01, -7.6507e-01],\n",
       "         [ 9.6203e-01,  1.2977e+00,  1.7588e-01,  1.9746e+00, -7.6800e-01,\n",
       "           1.3179e+00, -8.3674e-01, -3.9681e-01,  1.4646e+00, -1.5241e+00,\n",
       "           7.9341e-01,  6.6914e-01, -1.4755e+00,  1.3418e-01,  3.8304e-02,\n",
       "           3.7926e-01, -1.3045e+00,  3.3930e-01, -1.1466e-01,  2.8476e-01,\n",
       "           6.1152e-01, -9.8896e-01, -2.8370e-01,  9.9605e-01,  8.6644e-01,\n",
       "          -1.6358e-01,  8.4215e-01, -1.2044e+00,  1.1182e+00, -5.2289e-02,\n",
       "          -2.3781e-01,  7.5663e-01],\n",
       "         [ 1.5638e+00,  2.3838e-01,  1.9948e+00,  5.2852e-01, -1.5885e-01,\n",
       "           3.0483e-01, -2.4397e-01, -5.3140e-01,  7.4599e-01, -5.9556e-02,\n",
       "           1.2512e+00,  7.3130e-01,  4.2585e-01, -3.2778e-01,  1.1357e-01,\n",
       "          -1.1984e-01,  5.7616e-01, -6.9048e-01, -5.2971e-02,  3.1086e-01,\n",
       "          -1.5840e-01,  7.1843e-01, -2.3018e-01,  3.6961e-02,  4.5345e-01,\n",
       "           7.0382e-01,  1.1411e-01,  2.4291e-01, -4.1739e-04,  9.6688e-01,\n",
       "           4.5464e-01,  5.1939e-01],\n",
       "         [ 1.0122e+00, -5.9122e-01,  1.6634e+00,  4.6183e-01, -2.0608e-01,\n",
       "           1.0392e+00, -8.3648e-01,  1.8607e+00,  3.9067e-01,  3.7532e-01,\n",
       "           2.4806e-01,  6.0518e-01, -5.7211e-01,  4.8190e-02, -6.5955e-01,\n",
       "           5.2432e-01, -9.8527e-01,  3.5623e-01,  4.8987e-01,  3.8801e-01,\n",
       "           9.8628e-01, -7.3787e-01, -2.4902e-01,  1.1128e+00,  4.4836e-01,\n",
       "          -1.1682e-01,  1.7998e+00, -3.6551e-01, -5.2826e-01, -2.1992e-01,\n",
       "          -4.8441e-01, -5.1603e-01],\n",
       "         [-5.2678e-01,  1.2250e-01,  6.4032e-02, -9.8157e-01,  1.6089e+00,\n",
       "          -1.0851e-02, -3.9297e-02,  1.3890e+00,  5.4035e-01,  6.3849e-01,\n",
       "          -4.0742e-01,  1.1822e+00,  7.8845e-01, -4.7246e-01,  8.5030e-01,\n",
       "           4.7172e-01, -7.6216e-02,  1.3337e+00,  3.7303e-01,  8.2423e-01,\n",
       "          -7.0897e-02,  6.1786e-02,  7.1841e-01,  2.3021e-01, -1.2191e+00,\n",
       "          -4.4189e-01,  7.0390e-01,  4.0977e-01,  4.6780e-01,  5.6633e-01,\n",
       "           1.3328e-01, -2.5125e-01],\n",
       "         [ 4.1444e-01,  8.2251e-01,  1.0134e+00, -1.7555e+00, -7.7816e-02,\n",
       "          -7.0304e-01,  2.4941e-01,  1.1091e-01,  5.1931e-01,  3.5037e-01,\n",
       "          -2.1832e-01,  1.0030e+00,  6.5853e-01,  1.5958e-02,  6.1401e-02,\n",
       "           1.5871e-01, -9.6593e-01, -5.3224e-01, -9.4159e-01,  4.9442e-01,\n",
       "          -6.2320e-01,  1.5551e+00, -3.8369e-01, -5.7980e-01,  4.8243e-01,\n",
       "          -2.3360e-02,  4.6318e-01, -3.0751e-01,  1.0031e-01,  7.8372e-01,\n",
       "          -3.0887e-02,  4.3518e-01],\n",
       "         [-1.6310e+00, -1.8356e-03, -5.3102e-01, -8.7436e-01,  3.5337e-01,\n",
       "          -9.0216e-01, -4.4391e-01, -8.1200e-01,  5.3514e-01,  1.2726e+00,\n",
       "          -9.0809e-01,  5.4158e-01,  6.2264e-01,  1.3111e+00, -1.3664e-01,\n",
       "          -9.4660e-02,  9.8443e-01,  4.2380e-01, -1.0799e+00,  8.9937e-01,\n",
       "          -9.1786e-01, -7.6527e-01, -4.9290e-01,  7.6983e-01,  1.7870e-02,\n",
       "           1.5710e+00,  5.4834e-01,  4.8479e-01,  2.6698e-01, -3.4129e-01,\n",
       "           1.0295e-01,  3.9875e-01],\n",
       "         [-9.7113e-01,  1.3337e+00, -3.5930e-01, -4.2422e-01, -5.6089e-01,\n",
       "          -1.4448e+00,  1.3863e+00,  2.9266e-01,  4.2386e-02, -8.5404e-01,\n",
       "           7.6143e-01,  1.8980e-01, -5.4989e-01, -3.2823e-01,  1.4254e-01,\n",
       "           1.4285e-01,  1.6011e-01, -4.0909e-01,  1.2049e+00, -2.7992e-01,\n",
       "          -1.2620e+00,  6.7626e-01,  1.6795e-01,  7.9809e-01, -4.8985e-01,\n",
       "          -1.3979e-01,  2.9322e-01, -6.4148e-01, -2.6066e-02,  5.3889e-01,\n",
       "           7.5665e-02,  5.6216e-04],\n",
       "         [ 8.1414e-01,  6.5818e-03, -1.9539e+00, -8.2694e-01, -4.9321e-01,\n",
       "          -7.8494e-02,  2.3402e-01, -7.5294e-01, -1.1580e-01, -1.6906e-02,\n",
       "           7.3043e-01,  7.5634e-01, -2.8715e-01,  1.0006e+00, -1.2579e-01,\n",
       "          -7.4404e-01,  4.9976e-01, -5.7923e-01, -9.7779e-02, -2.8536e-01,\n",
       "           2.4957e-02,  4.2558e-01, -6.0349e-01,  9.2602e-01, -1.7368e-01,\n",
       "           7.3350e-02,  3.8643e-01,  5.0689e-01, -8.0266e-01,  9.1042e-01,\n",
       "          -6.6275e-01,  9.0076e-01],\n",
       "         [ 1.0133e+00, -1.3696e+00, -5.8703e-01,  1.1721e+00, -1.2056e-01,\n",
       "          -2.1034e+00, -9.8288e-01,  7.6155e-01, -1.6409e-01, -2.1103e+00,\n",
       "           4.3640e-01,  5.8714e-01,  2.1604e-01, -1.0958e+00, -1.0706e+00,\n",
       "          -1.8177e+00,  2.1049e+00, -7.9670e-01,  6.3240e-01, -1.3374e+00,\n",
       "          -9.8291e-01, -7.0309e-02, -3.9013e-01, -6.8297e-01,  1.8380e-01,\n",
       "          -3.5192e-01, -4.8372e-01,  1.9141e-01,  1.3935e+00,  1.1598e+00,\n",
       "           1.5627e+00, -1.5612e-02],\n",
       "         [ 9.5751e-02, -1.3523e+00, -6.3498e-01,  1.8338e+00, -9.9336e-01,\n",
       "          -2.1742e+00, -1.4225e+00,  8.5668e-01,  5.8340e-02, -2.1172e+00,\n",
       "           6.8224e-01, -4.2836e-01, -6.2212e-02, -4.0678e-01, -1.1323e+00,\n",
       "          -1.3206e+00,  1.4960e-01, -6.9098e-01,  3.7948e-01, -9.4328e-01,\n",
       "          -1.3601e+00, -1.2049e+00, -3.1712e-01,  7.8848e-01,  5.9989e-01,\n",
       "          -6.5222e-02, -1.3762e-02,  2.5431e-01,  7.1446e-01,  1.1682e+00,\n",
       "           9.7185e-01, -2.2115e-01],\n",
       "         [-5.5984e-01, -4.2644e-01,  6.2699e-01,  2.0947e+00, -1.0077e+00,\n",
       "          -2.2336e+00, -5.6875e-01,  1.8547e-01, -2.3020e-01, -2.3932e+00,\n",
       "           5.8649e-01,  5.1101e-01, -1.1194e+00, -2.4743e-01, -1.2330e+00,\n",
       "          -2.4128e+00,  1.9487e+00, -5.8604e-01,  6.0631e-01, -1.3570e+00,\n",
       "          -1.3786e+00, -1.7588e-01, -5.7657e-02, -3.0794e-01,  5.0576e-01,\n",
       "          -1.0713e+00, -4.8702e-01,  3.0541e-01,  1.6014e+00,  1.3526e+00,\n",
       "           1.5641e+00, -4.9024e-01]]], device='cuda:0', grad_fn=<AddBackward0>)"
      ]
     },
     "execution_count": 28,
     "metadata": {},
     "output_type": "execute_result"
    }
   ],
   "source": [
    "encode_output = model.encode(en_train_data[index].to(device), source_mask)\n",
    "encode_output"
   ]
  },
  {
   "cell_type": "code",
   "execution_count": null,
   "metadata": {},
   "outputs": [],
   "source": []
  }
 ],
 "metadata": {
  "kernelspec": {
   "display_name": "pytorch",
   "language": "python",
   "name": "pytorch"
  },
  "language_info": {
   "codemirror_mode": {
    "name": "ipython",
    "version": 3
   },
   "file_extension": ".py",
   "mimetype": "text/x-python",
   "name": "python",
   "nbconvert_exporter": "python",
   "pygments_lexer": "ipython3",
   "version": "3.7.13"
  }
 },
 "nbformat": 4,
 "nbformat_minor": 4
}
