{
 "cells": [
  {
   "cell_type": "code",
   "execution_count": 19,
   "metadata": {},
   "outputs": [],
   "source": [
    "text = [\"I'm a elementary student.\", \" And I'm hadding to a middle school student.\"]"
   ]
  },
  {
   "cell_type": "code",
   "execution_count": 20,
   "metadata": {},
   "outputs": [
    {
     "name": "stdout",
     "output_type": "stream",
     "text": [
      "[['I', \"'m\", 'a', 'elementary', 'student', '.'], ['And', 'I', \"'m\", 'hadding', 'to', 'a', 'middle', 'school', 'student', '.']]\n"
     ]
    }
   ],
   "source": [
    "# Word tokenized sentence\n",
    "from nltk import word_tokenize\n",
    "\n",
    "text_tokenzied = [word_tokenize(sentence) for sentence in text]\n",
    "print(text_tokenzied)"
   ]
  },
  {
   "cell_type": "code",
   "execution_count": 21,
   "metadata": {},
   "outputs": [
    {
     "name": "stdout",
     "output_type": "stream",
     "text": [
      "Counter({'I': 2, \"'m\": 2, 'a': 2, 'student': 2, '.': 2, 'elementary': 1, 'And': 1, 'hadding': 1, 'to': 1, 'middle': 1, 'school': 1})\n"
     ]
    }
   ],
   "source": [
    "# Count the words\n",
    "from collections import Counter\n",
    "\n",
    "vocab_counter = Counter()\n",
    "for sentence in text_tokenzied:\n",
    "    vocab_counter.update(sentence)\n",
    "    \n",
    "print(vocab_counter)"
   ]
  },
  {
   "cell_type": "code",
   "execution_count": 22,
   "metadata": {},
   "outputs": [
    {
     "name": "stdout",
     "output_type": "stream",
     "text": [
      "['I', \"'m\", 'a', 'elementary', 'student', '.', 'And', 'hadding', 'to', 'middle', 'school']\n"
     ]
    }
   ],
   "source": [
    "# Vocabulary set\n",
    "vocab = []\n",
    "for key, value in vocab_counter.items():\n",
    "    vocab.append(key)\n",
    "\n",
    "print(vocab)"
   ]
  },
  {
   "cell_type": "code",
   "execution_count": 27,
   "metadata": {},
   "outputs": [
    {
     "name": "stdout",
     "output_type": "stream",
     "text": [
      "[[2, 2, 2, 1, 2, 2], [1, 2, 2, 1, 1, 2, 1, 1, 2, 2]]\n"
     ]
    }
   ],
   "source": [
    "# Count vector\n",
    "text_count_vector = []\n",
    "\n",
    "for sentence in text_tokenzied:\n",
    "    sentence_vector = []\n",
    "    \n",
    "    for word in sentence:\n",
    "        sentence_vector.append(vocab_counter[word])\n",
    "    text_count_vector.append(sentence_vector)\n",
    "    \n",
    "print(text_count_vector)"
   ]
  },
  {
   "cell_type": "code",
   "execution_count": null,
   "metadata": {},
   "outputs": [],
   "source": []
  }
 ],
 "metadata": {
  "kernelspec": {
   "display_name": "pytorch",
   "language": "python",
   "name": "pytorch"
  },
  "language_info": {
   "codemirror_mode": {
    "name": "ipython",
    "version": 3
   },
   "file_extension": ".py",
   "mimetype": "text/x-python",
   "name": "python",
   "nbconvert_exporter": "python",
   "pygments_lexer": "ipython3",
   "version": "3.7.13"
  }
 },
 "nbformat": 4,
 "nbformat_minor": 4
}
