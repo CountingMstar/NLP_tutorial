{
 "cells": [
  {
   "cell_type": "code",
   "execution_count": 1,
   "metadata": {},
   "outputs": [],
   "source": [
    "import numpy as np\n",
    "import torch\n",
    "import torch.nn as nn\n",
    "import torch.nn.functional as F\n",
    "import matplotlib.pyplot as plt"
   ]
  },
  {
   "cell_type": "code",
   "execution_count": 2,
   "metadata": {},
   "outputs": [],
   "source": [
    "sentences = ['ich mochte ein bier P', 'S i want a beer', 'i want a beer E']"
   ]
  },
  {
   "cell_type": "code",
   "execution_count": 3,
   "metadata": {},
   "outputs": [
    {
     "data": {
      "text/plain": [
       "11"
      ]
     },
     "execution_count": 3,
     "metadata": {},
     "output_type": "execute_result"
    }
   ],
   "source": [
    "word_list = \" \".join(sentences).split()\n",
    "word_list = list(set(word_list))\n",
    "word_dictionary = {w: i for i, w in enumerate(word_list)}\n",
    "number_dictionary = {i: w for i, w in enumerate(word_list)}\n",
    "dictionary_size = len(word_dictionary)  # vocab list\n",
    "dictionary_size"
   ]
  },
  {
   "cell_type": "code",
   "execution_count": 4,
   "metadata": {},
   "outputs": [
    {
     "data": {
      "text/plain": [
       "array([[1., 0., 0., 0., 0., 0., 0., 0., 0., 0., 0.],\n",
       "       [0., 1., 0., 0., 0., 0., 0., 0., 0., 0., 0.],\n",
       "       [0., 0., 1., 0., 0., 0., 0., 0., 0., 0., 0.],\n",
       "       [0., 0., 0., 1., 0., 0., 0., 0., 0., 0., 0.],\n",
       "       [0., 0., 0., 0., 1., 0., 0., 0., 0., 0., 0.],\n",
       "       [0., 0., 0., 0., 0., 1., 0., 0., 0., 0., 0.],\n",
       "       [0., 0., 0., 0., 0., 0., 1., 0., 0., 0., 0.],\n",
       "       [0., 0., 0., 0., 0., 0., 0., 1., 0., 0., 0.],\n",
       "       [0., 0., 0., 0., 0., 0., 0., 0., 1., 0., 0.],\n",
       "       [0., 0., 0., 0., 0., 0., 0., 0., 0., 1., 0.],\n",
       "       [0., 0., 0., 0., 0., 0., 0., 0., 0., 0., 1.]])"
      ]
     },
     "execution_count": 4,
     "metadata": {},
     "output_type": "execute_result"
    }
   ],
   "source": [
    "one_hot = np.eye(dictionary_size)\n",
    "one_hot"
   ]
  },
  {
   "cell_type": "code",
   "execution_count": 5,
   "metadata": {},
   "outputs": [
    {
     "data": {
      "text/plain": [
       "(tensor([[[0., 0., 1., 0., 0., 0., 0., 0., 0., 0., 0.],\n",
       "          [0., 0., 0., 0., 0., 0., 0., 0., 0., 1., 0.],\n",
       "          [0., 0., 0., 0., 0., 0., 1., 0., 0., 0., 0.],\n",
       "          [0., 1., 0., 0., 0., 0., 0., 0., 0., 0., 0.],\n",
       "          [0., 0., 0., 0., 0., 0., 0., 0., 1., 0., 0.]]]),\n",
       " tensor([[[0., 0., 0., 1., 0., 0., 0., 0., 0., 0., 0.],\n",
       "          [0., 0., 0., 0., 0., 0., 0., 1., 0., 0., 0.],\n",
       "          [0., 0., 0., 0., 0., 1., 0., 0., 0., 0., 0.],\n",
       "          [1., 0., 0., 0., 0., 0., 0., 0., 0., 0., 0.],\n",
       "          [0., 0., 0., 0., 1., 0., 0., 0., 0., 0., 0.]]]),\n",
       " tensor([[ 7,  5,  0,  4, 10]]))"
      ]
     },
     "execution_count": 5,
     "metadata": {},
     "output_type": "execute_result"
    }
   ],
   "source": [
    "def sentence_to_batch(sentences):\n",
    "    input_ = [word_dictionary[word] for word in sentences[0].split()]\n",
    "    output_ = [word_dictionary[word] for word in sentences[1].split()]\n",
    "    target_ = [word_dictionary[word] for word in sentences[2].split()]\n",
    "    \n",
    "    onehot_input = [one_hot[i] for i in input_]\n",
    "    onehot_output = [one_hot[i] for i in output_]\n",
    "\n",
    "    input_tensor = torch.FloatTensor([onehot_input])\n",
    "    output_tensor = torch.FloatTensor([onehot_output])\n",
    "    target_tensor = torch.LongTensor([target_])\n",
    "    \n",
    "    return input_tensor, output_tensor, target_tensor\n",
    "\n",
    "\n",
    "sentence_to_batch(sentences)"
   ]
  },
  {
   "cell_type": "code",
   "execution_count": 6,
   "metadata": {},
   "outputs": [],
   "source": [
    "class Attention(nn.Module):\n",
    "    def __init__(self):\n",
    "        super(Attention, self).__init__()\n",
    "        self.encoder_cell = nn.RNN(input_size=dictionary_size, hidden_size=hidden_size, dropout=0.2)\n",
    "        self.decoder_cell = nn.RNN(input_size=dictionary_size, hidden_size=hidden_size, dropout=0.2)\n",
    "        \n",
    "        self.out = nn.Linear(hidden_size * 2, dictionary_size)\n",
    "\n",
    "\n",
    "    def forward(self, encoder_inputs, hidden, decoder_inputs):\n",
    "        encoder_inputs = encoder_inputs.transpose(0, 1) \n",
    "        decoder_inputs = decoder_inputs.transpose(0, 1)\n",
    "\n",
    "        encoder_outputs, encoder_hidden = self.encoder_cell(encoder_inputs, hidden)\n",
    "\n",
    "        trained_attention = []\n",
    "        hidden = encoder_hidden\n",
    "        number_of_cells = len(decoder_inputs)\n",
    "        model = torch.empty([number_of_cells, 1, dictionary_size])\n",
    "\n",
    "        for i in range(number_of_cells):  \n",
    "            \n",
    "            decoder_output, hidden = self.decoder_cell(decoder_inputs[i].unsqueeze(0), hidden)\n",
    "            attention_weights = self.attention_weight(decoder_output, encoder_outputs) \n",
    "            trained_attention.append(attention_weights.squeeze().data.numpy())\n",
    "        \n",
    "            context = attention_weights.bmm(encoder_outputs.transpose(0, 1))\n",
    "            decoder_output = decoder_output.squeeze(0) \n",
    "            context = context.squeeze(1) \n",
    "     \n",
    "            model[i] = self.out(torch.cat((decoder_output, context), dim=1))\n",
    "\n",
    "        model = model.transpose(0, 1).squeeze(0)\n",
    "        \n",
    "        return model, trained_attention\n",
    "\n",
    "    def attention_weight(self, decoder_output, encoder_outputs): \n",
    "        number_of_cells = len(encoder_outputs)\n",
    "        attn_scores = torch.zeros(number_of_cells)\n",
    "\n",
    "        for i in range(number_of_cells):\n",
    "            attn_scores[i] = self.attention_score(decoder_output, encoder_outputs[i])\n",
    "        \n",
    "        attention_value = F.softmax(attn_scores).view(1, 1, -1)\n",
    "        return attention_value\n",
    "\n",
    "    def attention_score(self, decoder_output, encoder_output):\n",
    "        decoder_hidden_state = decoder_output\n",
    "        encoder_hidden_state = encoder_output\n",
    "        score = torch.dot(decoder_hidden_state.view(-1), encoder_hidden_state.view(-1))\n",
    "        return score"
   ]
  },
  {
   "cell_type": "code",
   "execution_count": 7,
   "metadata": {},
   "outputs": [
    {
     "name": "stderr",
     "output_type": "stream",
     "text": [
      "/home/moonstar/anaconda3/envs/pytorch/lib/python3.7/site-packages/torch/nn/modules/rnn.py:63: UserWarning: dropout option adds dropout after all but last recurrent layer, so non-zero dropout expects num_layers greater than 1, but got dropout=0.2 and num_layers=1\n",
      "  \"num_layers={}\".format(dropout, num_layers))\n"
     ]
    },
    {
     "data": {
      "text/plain": [
       "Attention(\n",
       "  (encoder_cell): RNN(11, 128, dropout=0.2)\n",
       "  (decoder_cell): RNN(11, 128, dropout=0.2)\n",
       "  (out): Linear(in_features=256, out_features=11, bias=True)\n",
       ")"
      ]
     },
     "execution_count": 7,
     "metadata": {},
     "output_type": "execute_result"
    }
   ],
   "source": [
    "hidden_size = 128 # number of hidden units in one cell\n",
    "\n",
    "hidden = torch.zeros(1, 1, hidden_size)\n",
    "\n",
    "model = Attention()\n",
    "criterion = nn.CrossEntropyLoss()\n",
    "optimizer = torch.optim.Adam(model.parameters(), lr=0.001)\n",
    "\n",
    "input_batch, output_batch, target_batch = sentence_to_batch(sentences)\n",
    "\n",
    "Attention()"
   ]
  },
  {
   "cell_type": "code",
   "execution_count": 8,
   "metadata": {},
   "outputs": [
    {
     "name": "stderr",
     "output_type": "stream",
     "text": [
      "/home/moonstar/anaconda3/envs/pytorch/lib/python3.7/site-packages/ipykernel_launcher.py:44: UserWarning: Implicit dimension choice for softmax has been deprecated. Change the call to include dim=X as an argument.\n"
     ]
    },
    {
     "name": "stdout",
     "output_type": "stream",
     "text": [
      "Epoch: 0400 cost = 0.000489\n",
      "Epoch: 0800 cost = 0.000159\n",
      "Epoch: 1200 cost = 0.000079\n",
      "Epoch: 1600 cost = 0.000047\n",
      "Epoch: 2000 cost = 0.000031\n"
     ]
    }
   ],
   "source": [
    "# Train\n",
    "for epoch in range(2000):\n",
    "    optimizer.zero_grad()\n",
    "    output, _ = model(input_batch, hidden, output_batch)\n",
    "\n",
    "    loss = criterion(output, target_batch.squeeze(0))\n",
    "    if (epoch + 1) % 400 == 0:\n",
    "        print('Epoch:', '%04d' % (epoch + 1), 'cost =', '{:.6f}'.format(loss))\n",
    "\n",
    "    loss.backward()\n",
    "    optimizer.step()"
   ]
  },
  {
   "cell_type": "code",
   "execution_count": 9,
   "metadata": {},
   "outputs": [
    {
     "name": "stdout",
     "output_type": "stream",
     "text": [
      "ich mochte ein bier P -> ['i', 'want', 'a', 'beer', 'E']\n"
     ]
    },
    {
     "name": "stderr",
     "output_type": "stream",
     "text": [
      "/home/moonstar/anaconda3/envs/pytorch/lib/python3.7/site-packages/ipykernel_launcher.py:44: UserWarning: Implicit dimension choice for softmax has been deprecated. Change the call to include dim=X as an argument.\n"
     ]
    }
   ],
   "source": [
    "# Test\n",
    "test_batch = [np.eye(dictionary_size)[[word_dictionary[n] for n in 'SPPPP']]]\n",
    "test_batch = torch.FloatTensor(test_batch)\n",
    "predict, trained_attention = model(input_batch, hidden, test_batch)\n",
    "predict = predict.data.max(1, keepdim=True)[1]\n",
    "print(sentences[0], '->', [number_dictionary[n.item()] for n in predict.squeeze()])"
   ]
  },
  {
   "cell_type": "code",
   "execution_count": 10,
   "metadata": {},
   "outputs": [
    {
     "name": "stderr",
     "output_type": "stream",
     "text": [
      "/home/moonstar/anaconda3/envs/pytorch/lib/python3.7/site-packages/ipykernel_launcher.py:5: UserWarning: FixedFormatter should only be used together with FixedLocator\n",
      "  \"\"\"\n",
      "/home/moonstar/anaconda3/envs/pytorch/lib/python3.7/site-packages/ipykernel_launcher.py:6: UserWarning: FixedFormatter should only be used together with FixedLocator\n",
      "  \n"
     ]
    },
    {
     "data": {
      "image/png": "[encoded data removed]",
      "text/plain": [
       "<Figure size 360x360 with 1 Axes>"
      ]
     },
     "metadata": {
      "needs_background": "light"
     },
     "output_type": "display_data"
    }
   ],
   "source": [
    "# Show Attention\n",
    "fig = plt.figure(figsize=(5, 5))\n",
    "ax = fig.add_subplot(1, 1, 1)\n",
    "ax.matshow(trained_attention, cmap='viridis')\n",
    "ax.set_xticklabels([''] + sentences[0].split(), fontdict={'fontsize': 14})\n",
    "ax.set_yticklabels([''] + sentences[2].split(), fontdict={'fontsize': 14})\n",
    "plt.show()"
   ]
  },
  {
   "cell_type": "code",
   "execution_count": null,
   "metadata": {},
   "outputs": [],
   "source": []
  },
  {
   "cell_type": "code",
   "execution_count": null,
   "metadata": {},
   "outputs": [],
   "source": []
  }
 ],
 "metadata": {
  "kernelspec": {
   "display_name": "pytorch",
   "language": "python",
   "name": "pytorch"
  },
  "language_info": {
   "codemirror_mode": {
    "name": "ipython",
    "version": 3
   },
   "file_extension": ".py",
   "mimetype": "text/x-python",
   "name": "python",
   "nbconvert_exporter": "python",
   "pygments_lexer": "ipython3",
   "version": "3.7.13"
  }
 },
 "nbformat": 4,
 "nbformat_minor": 4
}
